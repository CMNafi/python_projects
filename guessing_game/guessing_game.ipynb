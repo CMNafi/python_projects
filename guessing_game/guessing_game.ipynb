{
 "cells": [
  {
   "cell_type": "markdown",
   "metadata": {},
   "source": [
    "## Simple Guessing Game\n",
    "### Rules\n",
    "* Guess a number between 1-100\n",
    "* Check if you can guess\n",
    "\n",
    "## Future plan:\n",
    "### Add a username and see how many tries you take\n",
    "### Add it to a pandas df and visualize"
   ]
  },
  {
   "cell_type": "code",
   "execution_count": 99,
   "metadata": {},
   "outputs": [],
   "source": [
    "import random\n",
    "import pandas as pd\n",
    "import matplotlib\n",
    "import matplotlib.pyplot as plt\n",
    "import numpy as np\n"
   ]
  },
  {
   "cell_type": "code",
   "execution_count": 106,
   "metadata": {},
   "outputs": [],
   "source": [
    "true_number = random.randint(1, 100)"
   ]
  },
  {
   "cell_type": "code",
   "execution_count": 101,
   "metadata": {},
   "outputs": [
    {
     "data": {
      "text/plain": [
       "58"
      ]
     },
     "execution_count": 101,
     "metadata": {},
     "output_type": "execute_result"
    }
   ],
   "source": [
    "true_number"
   ]
  },
  {
   "cell_type": "code",
   "execution_count": 107,
   "metadata": {},
   "outputs": [
    {
     "name": "stdout",
     "output_type": "stream",
     "text": [
      "Enter Your Name:  Nafi\n",
      "Enter your guess between 1 and 100: 5\n"
     ]
    }
   ],
   "source": [
    "name= (input(\"Enter Your Name:  \"))\n",
    "guess_number = int(input(\"Enter your guess between 1 and 100: \"))\n"
   ]
  },
  {
   "cell_type": "code",
   "execution_count": 108,
   "metadata": {},
   "outputs": [
    {
     "data": {
      "text/plain": [
       "5"
      ]
     },
     "execution_count": 108,
     "metadata": {},
     "output_type": "execute_result"
    }
   ],
   "source": [
    "guess_number"
   ]
  },
  {
   "cell_type": "code",
   "execution_count": 113,
   "metadata": {},
   "outputs": [
    {
     "name": "stdout",
     "output_type": "stream",
     "text": [
      "YOU ARE RIGHT! GOOD JOB!\n",
      "Hello  Nafi , you have finished it in: 1 count/s\n"
     ]
    }
   ],
   "source": [
    "counter = 1\n",
    "df = pd.DataFrame(columns=['Name', 'Tries', 'Guess_Number'])\n",
    "while True:\n",
    "\n",
    "    if guess_number == true_number:\n",
    "        df_new=pd.DataFrame([[name,counter,guess_number]], columns=['Name', 'Tries','Guess_Number'])\n",
    "        df=df.append(df_new, ignore_index=True)\n",
    "        print('YOU ARE RIGHT! GOOD JOB!')\n",
    "        print (\"Hello \", name, \", you have finished it in:\", counter, \"count/s\" )\n",
    "        break\n",
    "    elif guess_number < true_number and true_number-guess_number>10:\n",
    "        counter = counter + 1\n",
    "        print('YOUR GUESS IS Too LOW, TRY AGAIN')\n",
    "        guess_number = int(input(\"Enter your guess between 1 and 100: \"))\n",
    "        \n",
    "    elif guess_number < true_number:\n",
    "        counter = counter + 1\n",
    "        print(\"YOUR GUESS IS STILL LOW\")\n",
    "        guess_number = int(input(\"Enter your guess between 1 and 100: \"))\n",
    "        \n",
    "    elif guess_number > true_number and guess_number-true_number >10:\n",
    "        counter = counter + 1\n",
    "        print('YOUR GUESS IS TOO HIGH, TRY AGAIN')\n",
    "        guess_number = int(input(\"Enter a number from 1 and 100: \"))\n",
    "    elif guess_number > true_number:\n",
    "        counter = counter + 1\n",
    "        print('YOUR GUESS IS STILL HIGH, TRY AGAIN')\n",
    "        guess_number = int(input(\"Enter a number from 1 and 100: \"))\n",
    "    \n",
    "\n",
    "   "
   ]
  },
  {
   "cell_type": "code",
   "execution_count": 114,
   "metadata": {},
   "outputs": [
    {
     "data": {
      "text/html": [
       "<div>\n",
       "<style scoped>\n",
       "    .dataframe tbody tr th:only-of-type {\n",
       "        vertical-align: middle;\n",
       "    }\n",
       "\n",
       "    .dataframe tbody tr th {\n",
       "        vertical-align: top;\n",
       "    }\n",
       "\n",
       "    .dataframe thead th {\n",
       "        text-align: right;\n",
       "    }\n",
       "</style>\n",
       "<table border=\"1\" class=\"dataframe\">\n",
       "  <thead>\n",
       "    <tr style=\"text-align: right;\">\n",
       "      <th></th>\n",
       "      <th>Name</th>\n",
       "      <th>Tries</th>\n",
       "      <th>Guess_Number</th>\n",
       "    </tr>\n",
       "  </thead>\n",
       "  <tbody>\n",
       "    <tr>\n",
       "      <th>0</th>\n",
       "      <td>Nafi</td>\n",
       "      <td>1</td>\n",
       "      <td>86</td>\n",
       "    </tr>\n",
       "  </tbody>\n",
       "</table>\n",
       "</div>"
      ],
      "text/plain": [
       "   Name Tries Guess_Number\n",
       "0  Nafi     1           86"
      ]
     },
     "execution_count": 114,
     "metadata": {},
     "output_type": "execute_result"
    }
   ],
   "source": [
    "df"
   ]
  },
  {
   "cell_type": "code",
   "execution_count": 115,
   "metadata": {},
   "outputs": [
    {
     "data": {
      "text/plain": [
       "<AxesSubplot:>"
      ]
     },
     "execution_count": 115,
     "metadata": {},
     "output_type": "execute_result"
    },
    {
     "data": {
      "image/png": "[encoded data removed]",
      "text/plain": [
       "<Figure size 432x288 with 1 Axes>"
      ]
     },
     "metadata": {
      "needs_background": "light"
     },
     "output_type": "display_data"
    }
   ],
   "source": [
    "df.plot()"
   ]
  },
  {
   "cell_type": "code",
   "execution_count": null,
   "metadata": {},
   "outputs": [],
   "source": [
    "#Think about plotting the guess and the graphs"
   ]
  }
 ],
 "metadata": {
  "kernelspec": {
   "display_name": "Python 3",
   "language": "python",
   "name": "python3"
  },
  "language_info": {
   "codemirror_mode": {
    "name": "ipython",
    "version": 3
   },
   "file_extension": ".py",
   "mimetype": "text/x-python",
   "name": "python",
   "nbconvert_exporter": "python",
   "pygments_lexer": "ipython3",
   "version": "3.8.5"
  }
 },
 "nbformat": 4,
 "nbformat_minor": 2
}
