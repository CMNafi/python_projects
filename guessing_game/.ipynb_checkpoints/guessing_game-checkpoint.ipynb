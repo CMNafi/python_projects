{
 "cells": [
  {
   "cell_type": "markdown",
   "metadata": {},
   "source": [
    "## Simple Guessing Game\n",
    "### Rules\n",
    "* Guess a number between 1-100\n",
    "* Check if you can guess\n",
    "\n",
    "## Future plan:\n",
    "### Add a GUI\n",
    "### See how many tries it take for people to guess, how lucky you are! \n",
    "### Use Data Analysis and Visualization. "
   ]
  },
  {
   "cell_type": "code",
   "execution_count": 39,
   "metadata": {},
   "outputs": [],
   "source": [
    "import random"
   ]
  },
  {
   "cell_type": "code",
   "execution_count": 40,
   "metadata": {},
   "outputs": [],
   "source": [
    "true_number = random.randint(1, 100)"
   ]
  },
  {
   "cell_type": "code",
   "execution_count": 41,
   "metadata": {},
   "outputs": [
    {
     "data": {
      "text/plain": [
       "15"
      ]
     },
     "execution_count": 41,
     "metadata": {},
     "output_type": "execute_result"
    }
   ],
   "source": [
    "true_number"
   ]
  },
  {
   "cell_type": "code",
   "execution_count": 42,
   "metadata": {},
   "outputs": [
    {
     "name": "stdout",
     "output_type": "stream",
     "text": [
      "Enter your guess between 1 and 100: 25\n"
     ]
    }
   ],
   "source": [
    "guess_number = int(input(\"Enter your guess between 1 and 100: \"))\n"
   ]
  },
  {
   "cell_type": "code",
   "execution_count": 43,
   "metadata": {},
   "outputs": [
    {
     "data": {
      "text/plain": [
       "25"
      ]
     },
     "execution_count": 43,
     "metadata": {},
     "output_type": "execute_result"
    }
   ],
   "source": [
    "guess_number"
   ]
  },
  {
   "cell_type": "code",
   "execution_count": null,
   "metadata": {},
   "outputs": [],
   "source": [
    "counter = 0\n",
    "while True:\n",
    "\n",
    "    if guess_number == true_number:\n",
    "        counter = counter + 1\n",
    "        print('YOU ARE RIGHT! GOOD JOB!')\n",
    "        print (\"you have finished it in:\", counter, \"count/s\" )\n",
    "        break\n",
    "    elif guess_number < true_number and true_number-guess_number>10:\n",
    "        counter = counter + 1\n",
    "        print('YOUR GUESS IS Too LOW, TRY AGAIN')\n",
    "        guess_number = int(input(\"Enter your guess between 1 and 100: \"))\n",
    "        \n",
    "    elif guess_number < true_number:\n",
    "        counter = counter + 1\n",
    "        print(\"YOUR GUESS IS STILL LOW\")\n",
    "        guess_number = int(input(\"Enter your guess between 1 and 100: \"))\n",
    "        \n",
    "    elif guess_number > true_number and guess_number-true_number >10:\n",
    "        counter = counter + 1\n",
    "        print('YOUR GUESS IS TOO HIGH, TRY AGAIN')\n",
    "        guess_number = int(input(\"Enter a number from 1 and 100: \"))\n",
    "    elif guess_number > true_number:\n",
    "        counter = counter + 1\n",
    "        print('YOUR GUESS IS STILL HIGH, TRY AGAIN')\n",
    "        guess_number = int(input(\"Enter a number from 1 and 100: \"))\n",
    "   "
   ]
  },
  {
   "cell_type": "code",
   "execution_count": null,
   "metadata": {},
   "outputs": [],
   "source": [
    "print(count)"
   ]
  },
  {
   "cell_type": "code",
   "execution_count": 46,
   "metadata": {},
   "outputs": [
    {
     "name": "stdout",
     "output_type": "stream",
     "text": [
      "you have finished it in: 1 count/s\n"
     ]
    }
   ],
   "source": []
  },
  {
   "cell_type": "code",
   "execution_count": null,
   "metadata": {},
   "outputs": [],
   "source": []
  }
 ],
 "metadata": {
  "kernelspec": {
   "display_name": "Python 3",
   "language": "python",
   "name": "python3"
  },
  "language_info": {
   "codemirror_mode": {
    "name": "ipython",
    "version": 3
   },
   "file_extension": ".py",
   "mimetype": "text/x-python",
   "name": "python",
   "nbconvert_exporter": "python",
   "pygments_lexer": "ipython3",
   "version": "3.8.5"
  }
 },
 "nbformat": 4,
 "nbformat_minor": 2
}
